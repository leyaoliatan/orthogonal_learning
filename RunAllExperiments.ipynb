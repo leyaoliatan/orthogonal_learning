{
 "cells": [
  {
   "cell_type": "code",
   "execution_count": null,
   "id": "227d1b4c",
   "metadata": {},
   "outputs": [],
   "source": [
    "%load_ext autoreload\n",
    "%autoreload 2"
   ]
  },
  {
   "cell_type": "markdown",
   "id": "1963b93b",
   "metadata": {},
   "source": [
    "# Testing: Run a single experiment"
   ]
  },
  {
   "cell_type": "code",
   "execution_count": null,
   "id": "76da5c01",
   "metadata": {},
   "outputs": [],
   "source": [
    "from experiments import get_data_generator, exp, oracle_gen, dml, dml_split, dr, dr_split, myslearner"
   ]
  },
  {
   "cell_type": "code",
   "execution_count": null,
   "id": "f0711485",
   "metadata": {},
   "outputs": [],
   "source": [
    "gen_data_fn, base_fn, tau_fn, prop_fn = get_data_generator('A', 1000, 6, .5)"
   ]
  },
  {
   "cell_type": "code",
   "execution_count": null,
   "id": "0c5a0007",
   "metadata": {},
   "outputs": [],
   "source": [
    "method_list = [('dml_split', dml_split), ('slearner', myslearner)]"
   ]
  },
  {
   "cell_type": "code",
   "execution_count": null,
   "id": "05f07ecb",
   "metadata": {},
   "outputs": [],
   "source": [
    "data = gen_data_fn()\n",
    "results = exp(data, method_list, tau_fn, 4)"
   ]
  },
  {
   "cell_type": "code",
   "execution_count": null,
   "id": "88c4781a",
   "metadata": {},
   "outputs": [],
   "source": [
    "results"
   ]
  },
  {
   "cell_type": "markdown",
   "id": "b9ba031b",
   "metadata": {},
   "source": [
    "# Run all paper experiments"
   ]
  },
  {
   "cell_type": "code",
   "execution_count": null,
   "id": "6af08e4e",
   "metadata": {},
   "outputs": [],
   "source": [
    "import numpy as np\n",
    "import os\n",
    "import joblib\n",
    "import matplotlib.pyplot as plt \n",
    "import pandas as pd\n",
    "from experiments import main"
   ]
  },
  {
   "cell_type": "markdown",
   "id": "394ee1b8",
   "metadata": {},
   "source": [
    "### All CATE Experiments"
   ]
  },
  {
   "cell_type": "code",
   "execution_count": null,
   "id": "435e384f",
   "metadata": {},
   "outputs": [],
   "source": [
    "n_list = [500, 1000, 3000]\n",
    "d_list = [6, 12]\n",
    "sigma_list = [.5, 1, 2]\n",
    "setup_list = ['A', 'B', 'C', 'D', 'E', 'F']\n",
    "nx_list = [4, 4, 4, 5, 4, 4]\n",
    "all_res = {}\n",
    "for setup, n_x in zip(setup_list, nx_list):\n",
    "    for n in n_list:\n",
    "        for d in d_list:\n",
    "            for sigma in sigma_list:\n",
    "                target_dir = f'ortho_{setup}_{n}_{d}_{sigma}'\n",
    "                print(target_dir)\n",
    "                main(setup, n, d, n_x, sigma, 0, 2, target_dir)"
   ]
  },
  {
   "cell_type": "code",
   "execution_count": null,
   "id": "d1551d73",
   "metadata": {
    "scrolled": false
   },
   "outputs": [],
   "source": [
    "all_res = {}\n",
    "for setup in setup_list:\n",
    "    all_res[setup] = {}\n",
    "    for n in n_list:\n",
    "        all_res[setup][f'$n={n}$'] = {}\n",
    "        for d in d_list:\n",
    "            all_res[setup][f'$n={n}$'][f'$d={d}$'] = {}\n",
    "            for sigma in sigma_list:\n",
    "                all_res[setup][f'$n={n}$'][f'$d={d}$'][f'$\\sigma={sigma}$'] = {}\n",
    "                target_dir = f'ortho_{setup}_{n}_{d}_{sigma}'\n",
    "                filename = os.path.join(target_dir, 'res.jbl')\n",
    "                res = joblib.load(filename)\n",
    "                results = {}\n",
    "                for name in res[0].keys():\n",
    "                    all_r = [r[name] for r in res]\n",
    "                    results[f'{name}'] = f'{np.mean(all_r):.3f} ({np.std(all_r) / np.sqrt(len(all_r)):.3f})'\n",
    "\n",
    "                all_res[setup][f'$n={n}$'][f'$d={d}$'][f'$\\sigma={sigma}$'] = results\n",
    "            all_res[setup][f'$n={n}$'][f'$d={d}$'] = pd.DataFrame(all_res[setup][f'$n={n}$'][f'$d={d}$']).T\n",
    "        all_res[setup][f'$n={n}$'] = pd.concat(all_res[setup][f'$n={n}$'])\n",
    "    all_res[setup] = pd.concat(all_res[setup])\n",
    "    print(f'setup={setup}')\n",
    "    display(all_res[setup])"
   ]
  },
  {
   "cell_type": "markdown",
   "id": "3df147bc",
   "metadata": {},
   "source": [
    "### All Policy Experiments"
   ]
  },
  {
   "cell_type": "code",
   "execution_count": null,
   "id": "2b913d4a",
   "metadata": {},
   "outputs": [],
   "source": [
    "n_list = [500, 1000, 3000]\n",
    "d_list = [6, 12]\n",
    "sigma_list = [.5, 1, 2]\n",
    "\n",
    "setup_list = ['A', 'B', 'D', 'E', 'F']\n",
    "all_res = {}\n",
    "for setup in setup_list:\n",
    "    for n in n_list:\n",
    "        for d in d_list:\n",
    "            for sigma in sigma_list:\n",
    "                target_dir = f'ortho_{setup}_{n}_{d}_{sigma}'\n",
    "                print(target_dir)\n",
    "                main(setup, n, d, d, sigma, 0, 2, target_dir, policy=True)"
   ]
  },
  {
   "cell_type": "code",
   "execution_count": null,
   "id": "46cbfec5",
   "metadata": {
    "scrolled": false
   },
   "outputs": [],
   "source": [
    "all_res = {}\n",
    "for setup in setup_list:\n",
    "    all_res[setup] = {}\n",
    "    for n in n_list:\n",
    "        all_res[setup][f'$n={n}$'] = {}\n",
    "        for d in d_list:\n",
    "            all_res[setup][f'$n={n}$'][f'$d={d}$'] = {}\n",
    "            for sigma in sigma_list:\n",
    "                all_res[setup][f'$n={n}$'][f'$d={d}$'][f'$\\sigma={sigma}$'] = {}\n",
    "                target_dir = f'ortho_{setup}_{n}_{d}_{sigma}'\n",
    "                filename = os.path.join(target_dir, 'res_policy.jbl')\n",
    "                res = joblib.load(filename)\n",
    "                results = {}\n",
    "                for name in res[0].keys():\n",
    "                    all_r = [r[name] for r in res]\n",
    "                    results[f'{name}'] = f'{np.mean(all_r):.3f} ({np.std(all_r) / np.sqrt(len(all_r)):.3f})'\n",
    "\n",
    "                all_res[setup][f'$n={n}$'][f'$d={d}$'][f'$\\sigma={sigma}$'] = results\n",
    "            all_res[setup][f'$n={n}$'][f'$d={d}$'] = pd.DataFrame(all_res[setup][f'$n={n}$'][f'$d={d}$']).T\n",
    "        all_res[setup][f'$n={n}$'] = pd.concat(all_res[setup][f'$n={n}$'])\n",
    "    all_res[setup] = pd.concat(all_res[setup])\n",
    "    print(f'setup={setup}')\n",
    "    display(all_res[setup])"
   ]
  },
  {
   "cell_type": "code",
   "execution_count": null,
   "id": "48bc8df4",
   "metadata": {},
   "outputs": [],
   "source": []
  }
 ],
 "metadata": {
  "kernelspec": {
   "display_name": "Python 3 (ipykernel)",
   "language": "python",
   "name": "python3"
  },
  "language_info": {
   "codemirror_mode": {
    "name": "ipython",
    "version": 3
   },
   "file_extension": ".py",
   "mimetype": "text/x-python",
   "name": "python",
   "nbconvert_exporter": "python",
   "pygments_lexer": "ipython3",
   "version": "3.7.1"
  }
 },
 "nbformat": 4,
 "nbformat_minor": 5
}
